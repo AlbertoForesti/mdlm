{
 "cells": [
  {
   "cell_type": "code",
   "execution_count": 2,
   "id": "f97ab5c4",
   "metadata": {},
   "outputs": [
    {
     "name": "stdout",
     "output_type": "stream",
     "text": [
      "Total entropy: 325.8524804177546 * 0.9305555555555557 = 303.2238359442994\n"
     ]
    }
   ],
   "source": [
    "import datasets\n",
    "\n",
    "ds = datasets.load_dataset(\"json\", data_files=\"/home/foresti/mdlm/model_summaries_cleaned/M22/outputs_cnndm.aligned.paired.jsonl\")\n",
    "\n",
    "# To get just the train split (if it exists)\n",
    "train_ds = ds[\"train\"]\n",
    "\n",
    "# Average length of decoded field\n",
    "def avg_length(dataset, field):\n",
    "    total_length = 0\n",
    "    for example in dataset:\n",
    "        total_length += len(example[field])\n",
    "    return total_length / len(dataset)\n",
    "\n",
    "l = avg_length(train_ds, \"decoded\")\n",
    "nats_per_letter = 1.34/1.44\n",
    "print(f\"Total entropy: {l} * {nats_per_letter} = {l * nats_per_letter}\")"
   ]
  }
 ],
 "metadata": {
  "kernelspec": {
   "display_name": "mdlm",
   "language": "python",
   "name": "python3"
  },
  "language_info": {
   "codemirror_mode": {
    "name": "ipython",
    "version": 3
   },
   "file_extension": ".py",
   "mimetype": "text/x-python",
   "name": "python",
   "nbconvert_exporter": "python",
   "pygments_lexer": "ipython3",
   "version": "3.10.9"
  }
 },
 "nbformat": 4,
 "nbformat_minor": 5
}
